{
  "cells": [
    {
      "cell_type": "markdown",
      "metadata": {
        "id": "view-in-github",
        "colab_type": "text"
      },
      "source": [
        "<a href=\"https://colab.research.google.com/github/JeremDasilva/escape_room/blob/main/D1_list_dict_set_comprehension_(class).ipynb\" target=\"_parent\"><img src=\"https://colab.research.google.com/assets/colab-badge.svg\" alt=\"Open In Colab\"/></a>"
      ]
    },
    {
      "cell_type": "markdown",
      "id": "b08d37eb",
      "metadata": {
        "toc": true,
        "id": "b08d37eb"
      },
      "source": [
        "<h1>Table of Contents<span class=\"tocSkip\"></span></h1>\n",
        "<div class=\"toc\"><ul class=\"toc-item\"><li><span><a href=\"#List-Comprehensions\" data-toc-modified-id=\"List-Comprehensions-1\"><span class=\"toc-item-num\">1&nbsp;&nbsp;</span>List Comprehensions</a></span><ul class=\"toc-item\"><li><span><a href=\"#Note\" data-toc-modified-id=\"Note-1.1\"><span class=\"toc-item-num\">1.1&nbsp;&nbsp;</span>Note</a></span></li><li><span><a href=\"#💡--Check-for-understanding\" data-toc-modified-id=\"💡--Check-for-understanding-1.2\"><span class=\"toc-item-num\">1.2&nbsp;&nbsp;</span>💡  Check for understanding</a></span></li><li><span><a href=\"#Conditions-(we-put-IF-in-the-comprehension)\" data-toc-modified-id=\"Conditions-(we-put-IF-in-the-comprehension)-1.3\"><span class=\"toc-item-num\">1.3&nbsp;&nbsp;</span>Conditions (we put IF in the comprehension)</a></span><ul class=\"toc-item\"><li><span><a href=\"#💡-Check-for-understanding\" data-toc-modified-id=\"💡-Check-for-understanding-1.3.1\"><span class=\"toc-item-num\">1.3.1&nbsp;&nbsp;</span>💡 Check for understanding</a></span></li></ul></li><li><span><a href=\"#If-/-Else-in-comprehension\" data-toc-modified-id=\"If-/-Else-in-comprehension-1.4\"><span class=\"toc-item-num\">1.4&nbsp;&nbsp;</span>If / Else in comprehension</a></span></li></ul></li><li><span><a href=\"#Dictionary-Comprehension\" data-toc-modified-id=\"Dictionary-Comprehension-2\"><span class=\"toc-item-num\">2&nbsp;&nbsp;</span>Dictionary Comprehension</a></span><ul class=\"toc-item\"><li><span><a href=\"#💡-Check-for-understanding\" data-toc-modified-id=\"💡-Check-for-understanding-2.1\"><span class=\"toc-item-num\">2.1&nbsp;&nbsp;</span>💡 Check for understanding</a></span></li></ul></li><li><span><a href=\"#Set-Comprehension\" data-toc-modified-id=\"Set-Comprehension-3\"><span class=\"toc-item-num\">3&nbsp;&nbsp;</span>Set Comprehension</a></span><ul class=\"toc-item\"><li><span><a href=\"#💡-Check-for-understanding\" data-toc-modified-id=\"💡-Check-for-understanding-3.1\"><span class=\"toc-item-num\">3.1&nbsp;&nbsp;</span>💡 Check for understanding</a></span></li></ul></li><li><span><a href=\"#Summary\" data-toc-modified-id=\"Summary-4\"><span class=\"toc-item-num\">4&nbsp;&nbsp;</span>Summary</a></span></li><li><span><a href=\"#Extra\" data-toc-modified-id=\"Extra-5\"><span class=\"toc-item-num\">5&nbsp;&nbsp;</span>Extra</a></span><ul class=\"toc-item\"><li><span><a href=\"#Nested-list-comprehensions\" data-toc-modified-id=\"Nested-list-comprehensions-5.1\"><span class=\"toc-item-num\">5.1&nbsp;&nbsp;</span>Nested list comprehensions</a></span></li><li><span><a href=\"#Dict-comprehension-from-two-lists\" data-toc-modified-id=\"Dict-comprehension-from-two-lists-5.2\"><span class=\"toc-item-num\">5.2&nbsp;&nbsp;</span>Dict comprehension from two lists</a></span></li></ul></li></ul></div>"
      ]
    },
    {
      "cell_type": "markdown",
      "id": "e1f3c60c-6a4c-4420-ab87-c2f6e0bd93ed",
      "metadata": {
        "lang": "en",
        "id": "e1f3c60c-6a4c-4420-ab87-c2f6e0bd93ed"
      },
      "source": [
        "# List Comprehensions"
      ]
    },
    {
      "cell_type": "markdown",
      "id": "41722faf-5aed-40a7-a665-e7b08ac83f23",
      "metadata": {
        "id": "41722faf-5aed-40a7-a665-e7b08ac83f23"
      },
      "source": [
        "![elgif](https://media.giphy.com/media/8vZY0QZZjJZqmfResk/giphy.gif)"
      ]
    },
    {
      "cell_type": "markdown",
      "id": "1f2388fe-f609-4afb-98f7-5a7084d0d9b6",
      "metadata": {
        "id": "1f2388fe-f609-4afb-98f7-5a7084d0d9b6"
      },
      "source": [
        "List comprehension is an easy to read, compact, and elegant way of **creating a list from any existing iterable object**.\n",
        "\n",
        "List comprehension is a single line of code that you write inside the square brackets. It has three components:\n",
        "\n",
        "- For loop\n",
        "- Condition and expression (optional)\n",
        "- Output\n"
      ]
    },
    {
      "cell_type": "markdown",
      "id": "456a017a-22bb-44ba-9c74-b25935d0d80e",
      "metadata": {
        "id": "456a017a-22bb-44ba-9c74-b25935d0d80e"
      },
      "source": [
        "![imagen_compr](https://stsewd.dev/charla-comprension-de-listas/img/listComprehensions.gif)"
      ]
    },
    {
      "cell_type": "markdown",
      "id": "f4e68458-5892-4ef8-8b7b-6d0e9d1ea311",
      "metadata": {
        "lang": "en",
        "id": "f4e68458-5892-4ef8-8b7b-6d0e9d1ea311"
      },
      "source": [
        "Let's look at an example, we'll leave the optional predicate (if or if/else for later).\n",
        "\n",
        "If we wanted to have a list like the following one, but with all the words in uppercase using a loop, we would do, without list comprehension:"
      ]
    },
    {
      "cell_type": "code",
      "execution_count": null,
      "id": "velvet-madonna",
      "metadata": {
        "id": "velvet-madonna"
      },
      "outputs": [],
      "source": [
        "city_list = [\"barcelona\", \"madrid\", \"girona\", \"murcia\"]\n",
        "\n",
        "city_list_propercase = []\n",
        "# Change the words to Proper case\n",
        "for city in city_list:\n",
        "    city_list_propercase.append(city.capitalize())"
      ]
    },
    {
      "cell_type": "code",
      "execution_count": null,
      "id": "68c3d9c3",
      "metadata": {
        "colab": {
          "base_uri": "https://localhost:8080/"
        },
        "id": "68c3d9c3",
        "outputId": "b3d6810b-f5b9-4f40-96a6-b19d43fae235"
      },
      "outputs": [
        {
          "output_type": "execute_result",
          "data": {
            "text/plain": [
              "['Barcelona', 'Madrid', 'Girona', 'Murcia']"
            ]
          },
          "metadata": {},
          "execution_count": 3
        }
      ],
      "source": [
        "city_list_propercase"
      ]
    },
    {
      "cell_type": "markdown",
      "id": "71cbc6a3-d126-4c9e-9f8f-09f59388cf41",
      "metadata": {
        "lang": "en",
        "id": "71cbc6a3-d126-4c9e-9f8f-09f59388cf41"
      },
      "source": [
        "How can we do it with list comprehension?"
      ]
    },
    {
      "cell_type": "code",
      "execution_count": null,
      "id": "c1754a5a",
      "metadata": {
        "id": "c1754a5a"
      },
      "outputs": [],
      "source": [
        "# Comprehension\n",
        "city_list_propercase = [city.capitalize() for city in city_list]"
      ]
    },
    {
      "cell_type": "code",
      "execution_count": null,
      "id": "87f993c5",
      "metadata": {
        "id": "87f993c5",
        "outputId": "bef1b588-004b-4a89-9d0c-9f894557b0ac"
      },
      "outputs": [
        {
          "data": {
            "text/plain": [
              "['Barcelona', 'Madrid', 'Girona', 'Murcia']"
            ]
          },
          "execution_count": 47,
          "metadata": {},
          "output_type": "execute_result"
        }
      ],
      "source": [
        "city_list_propercase"
      ]
    },
    {
      "cell_type": "markdown",
      "id": "d95d40b9-3d51-404d-ab5a-f85045cb49c1",
      "metadata": {
        "lang": "en",
        "id": "d95d40b9-3d51-404d-ab5a-f85045cb49c1"
      },
      "source": [
        "One more example:\n",
        "\n",
        "We want a list containing the squares of the numbers 1 to 10."
      ]
    },
    {
      "cell_type": "code",
      "execution_count": null,
      "id": "e3bc67b9",
      "metadata": {
        "id": "e3bc67b9",
        "outputId": "59dce190-7241-488a-9ec7-37c0c69a08f7"
      },
      "outputs": [
        {
          "data": {
            "text/plain": [
              "[1, 2, 3, 4, 5, 6, 7, 8, 9, 10]"
            ]
          },
          "execution_count": 49,
          "metadata": {},
          "output_type": "execute_result"
        }
      ],
      "source": [
        "numbers = list(range(1, 11))\n",
        "numbers"
      ]
    },
    {
      "cell_type": "code",
      "execution_count": null,
      "id": "8967d0d4",
      "metadata": {
        "id": "8967d0d4"
      },
      "outputs": [],
      "source": [
        "squared_numbers = []"
      ]
    },
    {
      "cell_type": "code",
      "execution_count": null,
      "id": "8f1496bc",
      "metadata": {
        "id": "8f1496bc"
      },
      "outputs": [],
      "source": [
        "# Regular loop\n",
        "for number in numbers:\n",
        "    squared_numbers.append(number ** 2)"
      ]
    },
    {
      "cell_type": "code",
      "execution_count": null,
      "id": "c65e0233",
      "metadata": {
        "id": "c65e0233",
        "outputId": "f3466e06-39c2-4fd7-a75e-896030120bd8"
      },
      "outputs": [
        {
          "data": {
            "text/plain": [
              "[1, 4, 9, 16, 25, 36, 49, 64, 81, 100]"
            ]
          },
          "execution_count": 53,
          "metadata": {},
          "output_type": "execute_result"
        }
      ],
      "source": [
        "squared_numbers"
      ]
    },
    {
      "cell_type": "code",
      "execution_count": null,
      "id": "238f8099",
      "metadata": {
        "id": "238f8099",
        "outputId": "65f88886-2819-4e56-cb42-9a1bbe15e62a"
      },
      "outputs": [
        {
          "data": {
            "text/plain": [
              "[1, 4, 9, 16, 25, 36, 49, 64, 81, 100]"
            ]
          },
          "execution_count": 54,
          "metadata": {},
          "output_type": "execute_result"
        }
      ],
      "source": [
        "# List comprehension\n",
        "squared_numbers = [number ** 2 for number in numbers]\n",
        "squared_numbers"
      ]
    },
    {
      "cell_type": "code",
      "execution_count": null,
      "id": "875a9128",
      "metadata": {
        "id": "875a9128",
        "outputId": "da33578d-1539-4615-a65e-2196afc11c40"
      },
      "outputs": [
        {
          "data": {
            "text/plain": [
              "range(1, 11)"
            ]
          },
          "execution_count": 55,
          "metadata": {},
          "output_type": "execute_result"
        }
      ],
      "source": [
        "# Does it work with range only?\n",
        "numbers = range(1, 11)\n",
        "numbers"
      ]
    },
    {
      "cell_type": "code",
      "execution_count": null,
      "id": "f8df6344",
      "metadata": {
        "id": "f8df6344",
        "outputId": "0cddcffd-762a-4e0f-8188-3c5e8568a5df"
      },
      "outputs": [
        {
          "data": {
            "text/plain": [
              "[1, 4, 9, 16, 25, 36, 49, 64, 81, 100]"
            ]
          },
          "execution_count": 56,
          "metadata": {},
          "output_type": "execute_result"
        }
      ],
      "source": [
        "# List comprehension\n",
        "squared_numbers = [number ** 2 for number in numbers]\n",
        "squared_numbers"
      ]
    },
    {
      "cell_type": "markdown",
      "id": "23be3165-a1c5-4dd9-a304-3e6138318860",
      "metadata": {
        "lang": "en",
        "id": "23be3165-a1c5-4dd9-a304-3e6138318860"
      },
      "source": [
        "## Note\n",
        "\n",
        "List comprehension in Python offers a more concise way to generate lists **without** the need for **explicitly creating an empty list** to begin with and using the **`.append`** method."
      ]
    },
    {
      "cell_type": "code",
      "execution_count": null,
      "id": "d66c2911",
      "metadata": {
        "id": "d66c2911",
        "outputId": "c2e06b8b-57a9-47c5-c43b-0370bb092b3d"
      },
      "outputs": [
        {
          "data": {
            "text/plain": [
              "[0, 1, 2, 3, 5, 6, 7, 8]"
            ]
          },
          "execution_count": 58,
          "metadata": {},
          "output_type": "execute_result"
        }
      ],
      "source": [
        "# Extend method\n",
        "numbers = list(range(4))\n",
        "numbers.extend([5, 6, 7, 8])\n",
        "numbers"
      ]
    },
    {
      "cell_type": "markdown",
      "id": "339c9c37-e281-4dcb-94dd-8f44db633bc8",
      "metadata": {
        "lang": "en",
        "id": "339c9c37-e281-4dcb-94dd-8f44db633bc8"
      },
      "source": [
        "## 💡  Check for understanding\n",
        "\n",
        "Create a new list, substituting \"e's\" for \"a's\" in each word in the original `words` list."
      ]
    },
    {
      "cell_type": "code",
      "execution_count": null,
      "id": "c8c45c56",
      "metadata": {
        "id": "c8c45c56"
      },
      "outputs": [],
      "source": [
        "words = ['barcelona', 'madrid', 'gerona', 'murcia']"
      ]
    },
    {
      "cell_type": "code",
      "execution_count": null,
      "id": "e9043062",
      "metadata": {
        "id": "e9043062"
      },
      "outputs": [],
      "source": [
        "# For loop"
      ]
    },
    {
      "cell_type": "code",
      "execution_count": null,
      "id": "4cf5c6cb",
      "metadata": {
        "id": "4cf5c6cb"
      },
      "outputs": [],
      "source": [
        "# List comprehension"
      ]
    },
    {
      "cell_type": "markdown",
      "id": "138d7541-41bf-436c-bffb-e4e5a510daa6",
      "metadata": {
        "lang": "en",
        "id": "138d7541-41bf-436c-bffb-e4e5a510daa6"
      },
      "source": [
        "## Conditions (we put IF in the comprehension)"
      ]
    },
    {
      "cell_type": "markdown",
      "id": "a031ef24-f4e4-4f26-8f72-f194b9753142",
      "metadata": {
        "id": "a031ef24-f4e4-4f26-8f72-f194b9753142"
      },
      "source": [
        "In list comprehension, you can use the `if` and `else` syntax to include conditional statements for filtering and modifying elements while creating a new list. This allows you to conditionally include elements based on certain criteria.\n",
        "\n",
        "Let's look at just including `if` statement."
      ]
    },
    {
      "cell_type": "markdown",
      "id": "714b7bb9-4cad-47a4-97ca-0fcdb0c662ab",
      "metadata": {
        "id": "714b7bb9-4cad-47a4-97ca-0fcdb0c662ab"
      },
      "source": [
        "<img width=600 src=\"https://www.mrdbourke.com/content/images/2019/09/python-list-comprehension-article.png\">"
      ]
    },
    {
      "cell_type": "markdown",
      "id": "c420cf54-8049-402f-b4e7-8522f00d8d14",
      "metadata": {
        "id": "c420cf54-8049-402f-b4e7-8522f00d8d14"
      },
      "source": [
        "Let's create a list like the following one, but with all the **words** in uppercase using a loop (i.e. ignore the elements that are not strings)"
      ]
    },
    {
      "cell_type": "code",
      "execution_count": null,
      "id": "36e710a5",
      "metadata": {
        "id": "36e710a5"
      },
      "outputs": [],
      "source": [
        "city_list_not_clean = [\"barcelona\", 2,  3, \"madrid\", \"girona\", 30, \"murcia\"]"
      ]
    },
    {
      "cell_type": "code",
      "execution_count": null,
      "id": "221cc9df",
      "metadata": {
        "id": "221cc9df",
        "outputId": "f2b21375-4570-495e-fcb1-33f185c1bef9"
      },
      "outputs": [
        {
          "data": {
            "text/plain": [
              "['Barcelona', 'Madrid', 'Girona', 'Murcia']"
            ]
          },
          "execution_count": 61,
          "metadata": {},
          "output_type": "execute_result"
        }
      ],
      "source": [
        "# How can I do this?\n",
        "\n",
        "city_list_clean = []\n",
        "# For loop\n",
        "for elem in city_list_not_clean:\n",
        "    if type(elem) == str:\n",
        "        city_list_clean.append(elem.capitalize())\n",
        "city_list_clean"
      ]
    },
    {
      "cell_type": "code",
      "execution_count": null,
      "id": "32596040",
      "metadata": {
        "id": "32596040"
      },
      "outputs": [],
      "source": [
        "# List Comprehension\n",
        "city_list_clean = [elem.capitalize() for elem in city_list_not_clean if type(elem) == str]"
      ]
    },
    {
      "cell_type": "code",
      "execution_count": null,
      "id": "fd782195",
      "metadata": {
        "id": "fd782195",
        "outputId": "e693f8b7-64b6-404a-ca6c-0bc1f88567be"
      },
      "outputs": [
        {
          "data": {
            "text/plain": [
              "'3'"
            ]
          },
          "execution_count": 64,
          "metadata": {},
          "output_type": "execute_result"
        }
      ],
      "source": [
        "x = str(3)\n",
        "x.capitalize()"
      ]
    },
    {
      "cell_type": "markdown",
      "id": "1d655940-9346-4125-8c9e-53fa815cb89a",
      "metadata": {
        "id": "1d655940-9346-4125-8c9e-53fa815cb89a"
      },
      "source": [
        "Let's look at one more example.\n",
        "Let's create a list with the numbers from 0 to 9 that are even."
      ]
    },
    {
      "cell_type": "code",
      "execution_count": null,
      "id": "8046f93d-e55c-45e7-9f94-f0870774b395",
      "metadata": {
        "id": "8046f93d-e55c-45e7-9f94-f0870774b395",
        "outputId": "5036afe3-399e-4bbf-dd0d-2ed16a87f87d"
      },
      "outputs": [
        {
          "name": "stdout",
          "output_type": "stream",
          "text": [
            "1\n",
            "2\n",
            "3\n",
            "4\n",
            "5\n",
            "6\n",
            "7\n",
            "8\n",
            "9\n",
            "10\n"
          ]
        }
      ],
      "source": [
        "numbers = range(1, 11)\n",
        "even_numbers = []\n",
        "# For loop\n",
        "for number in numbers:\n",
        "    print(number)\n",
        "    if number % 2 == 0:\n",
        "        even_numbers.append(number)"
      ]
    },
    {
      "cell_type": "code",
      "execution_count": null,
      "id": "130b0bb5",
      "metadata": {
        "id": "130b0bb5",
        "outputId": "1502559d-f94c-49d3-9a87-b79bb6223491"
      },
      "outputs": [
        {
          "data": {
            "text/plain": [
              "10"
            ]
          },
          "execution_count": 75,
          "metadata": {},
          "output_type": "execute_result"
        }
      ],
      "source": [
        "number"
      ]
    },
    {
      "cell_type": "code",
      "execution_count": null,
      "id": "84084dd8",
      "metadata": {
        "id": "84084dd8",
        "outputId": "3023871d-dff5-4923-813c-46e8c2c423d4"
      },
      "outputs": [
        {
          "data": {
            "text/plain": [
              "[2, 4, 6, 8, 10, 10]"
            ]
          },
          "execution_count": 77,
          "metadata": {},
          "output_type": "execute_result"
        }
      ],
      "source": [
        "even_numbers"
      ]
    },
    {
      "cell_type": "code",
      "execution_count": null,
      "id": "373615cb-4037-4aec-99c0-f8411ae7d189",
      "metadata": {
        "id": "373615cb-4037-4aec-99c0-f8411ae7d189",
        "outputId": "457d131e-d61b-439d-c632-5a1293ac6a08"
      },
      "outputs": [
        {
          "data": {
            "text/plain": [
              "[2, 4, 6, 8, 10]"
            ]
          },
          "execution_count": 78,
          "metadata": {},
          "output_type": "execute_result"
        }
      ],
      "source": [
        "# List Comprehension\n",
        "even_numbers = [number for number in numbers if number % 2 == 0]\n",
        "even_numbers"
      ]
    },
    {
      "cell_type": "markdown",
      "id": "df4b13d9-0df6-4c0c-b481-9689936f4585",
      "metadata": {
        "lang": "en",
        "id": "df4b13d9-0df6-4c0c-b481-9689936f4585"
      },
      "source": [
        "### 💡 Check for understanding\n",
        "\n",
        "We want a new list with words longer than 6 characters."
      ]
    },
    {
      "cell_type": "code",
      "execution_count": null,
      "id": "invalid-variation",
      "metadata": {
        "id": "invalid-variation"
      },
      "outputs": [],
      "source": [
        "city_list = ['barcelona', 'madrid', 'gerona', 'murcia']"
      ]
    },
    {
      "cell_type": "code",
      "execution_count": null,
      "id": "83f3feda",
      "metadata": {
        "id": "83f3feda",
        "outputId": "4a84f960-4643-4943-c07a-54fbd0e24308"
      },
      "outputs": [
        {
          "data": {
            "text/plain": [
              "['barcelona']"
            ]
          },
          "execution_count": 81,
          "metadata": {},
          "output_type": "execute_result"
        }
      ],
      "source": [
        "# Your code goes here\n",
        "city_list_clean = []\n",
        "for city in city_list:\n",
        "    if len(city) > 6:\n",
        "        city_list_clean.append(city)\n",
        "\n",
        "city_list_clean"
      ]
    },
    {
      "cell_type": "code",
      "execution_count": null,
      "id": "9a48bf3b",
      "metadata": {
        "id": "9a48bf3b",
        "outputId": "76b9a75d-64fa-42d3-fef0-1cacfd918bc0"
      },
      "outputs": [
        {
          "name": "stdout",
          "output_type": "stream",
          "text": [
            "['barcelona']\n"
          ]
        }
      ],
      "source": [
        "long_cities = []\n",
        "for city in list_of_words:\n",
        "    if len(city) > 6:\n",
        "        long_cities.append(city)\n",
        "print(long_cities)"
      ]
    },
    {
      "cell_type": "code",
      "execution_count": null,
      "id": "c9703007",
      "metadata": {
        "id": "c9703007",
        "outputId": "b2f02f46-c4c1-469f-fb5d-3c030a05ed62"
      },
      "outputs": [
        {
          "ename": "NameError",
          "evalue": "name 'long_cities2' is not defined",
          "output_type": "error",
          "traceback": [
            "\u001b[1;31m---------------------------------------------------------------------------\u001b[0m",
            "\u001b[1;31mNameError\u001b[0m                                 Traceback (most recent call last)",
            "\u001b[1;32mc:\\Users\\sabin\\Downloads\\freelancing\\ironhack\\15_aug_23\\lessons\\1_intro_to_python\\1.4_list_dict_set_comprehension (class).ipynb Cell 43\u001b[0m in \u001b[0;36m1\n\u001b[1;32m----> <a href='vscode-notebook-cell:/c%3A/Users/sabin/Downloads/freelancing/ironhack/15_aug_23/lessons/1_intro_to_python/1.4_list_dict_set_comprehension%20%28class%29.ipynb#Y210sZmlsZQ%3D%3D?line=0'>1</a>\u001b[0m long_cities2 \u001b[39m=\u001b[39m [long_cities2\u001b[39m.\u001b[39mappend(city) \u001b[39mfor\u001b[39;00m city \u001b[39min\u001b[39;00m city_list \u001b[39mif\u001b[39;00m \u001b[39mlen\u001b[39m(city) \u001b[39m>\u001b[39m \u001b[39m6\u001b[39m]\n\u001b[0;32m      <a href='vscode-notebook-cell:/c%3A/Users/sabin/Downloads/freelancing/ironhack/15_aug_23/lessons/1_intro_to_python/1.4_list_dict_set_comprehension%20%28class%29.ipynb#Y210sZmlsZQ%3D%3D?line=1'>2</a>\u001b[0m \u001b[39mprint\u001b[39m(long_cities2)\n",
            "\u001b[1;32mc:\\Users\\sabin\\Downloads\\freelancing\\ironhack\\15_aug_23\\lessons\\1_intro_to_python\\1.4_list_dict_set_comprehension (class).ipynb Cell 43\u001b[0m in \u001b[0;36m1\n\u001b[1;32m----> <a href='vscode-notebook-cell:/c%3A/Users/sabin/Downloads/freelancing/ironhack/15_aug_23/lessons/1_intro_to_python/1.4_list_dict_set_comprehension%20%28class%29.ipynb#Y210sZmlsZQ%3D%3D?line=0'>1</a>\u001b[0m long_cities2 \u001b[39m=\u001b[39m [long_cities2\u001b[39m.\u001b[39mappend(city) \u001b[39mfor\u001b[39;00m city \u001b[39min\u001b[39;00m city_list \u001b[39mif\u001b[39;00m \u001b[39mlen\u001b[39m(city) \u001b[39m>\u001b[39m \u001b[39m6\u001b[39m]\n\u001b[0;32m      <a href='vscode-notebook-cell:/c%3A/Users/sabin/Downloads/freelancing/ironhack/15_aug_23/lessons/1_intro_to_python/1.4_list_dict_set_comprehension%20%28class%29.ipynb#Y210sZmlsZQ%3D%3D?line=1'>2</a>\u001b[0m \u001b[39mprint\u001b[39m(long_cities2)\n",
            "\u001b[1;31mNameError\u001b[0m: name 'long_cities2' is not defined"
          ]
        }
      ],
      "source": [
        "long_cities2 = [city.split('a') for city in city_list if len(city) > 6]\n",
        "print(long_cities2)"
      ]
    },
    {
      "cell_type": "code",
      "execution_count": null,
      "id": "0bc0de7e",
      "metadata": {
        "id": "0bc0de7e"
      },
      "outputs": [],
      "source": []
    },
    {
      "cell_type": "code",
      "execution_count": null,
      "id": "3ccdd7b3",
      "metadata": {
        "id": "3ccdd7b3",
        "outputId": "725f4d0f-fc16-48e3-f276-e1aa70f7910e"
      },
      "outputs": [
        {
          "ename": "SyntaxError",
          "evalue": "invalid syntax (293577532.py, line 1)",
          "output_type": "error",
          "traceback": [
            "\u001b[1;36m  Cell \u001b[1;32mIn [80], line 1\u001b[1;36m\u001b[0m\n\u001b[1;33m    ['barcelona' if len('barcelona') > 6, 'madrid' if len('madrid') > 6]\u001b[0m\n\u001b[1;37m                                        ^\u001b[0m\n\u001b[1;31mSyntaxError\u001b[0m\u001b[1;31m:\u001b[0m invalid syntax\n"
          ]
        }
      ],
      "source": [
        "['barcelona' if len('barcelona') > 6, 'madrid' if len('madrid') > 6]"
      ]
    },
    {
      "cell_type": "markdown",
      "id": "de3bd144-3e49-497b-9840-e05d5e3fd80e",
      "metadata": {
        "lang": "en",
        "id": "de3bd144-3e49-497b-9840-e05d5e3fd80e"
      },
      "source": [
        "## If / Else in comprehension\n",
        "\n",
        "Let's look at the syntax when including an `else statement`, that is implemented if the condition is false."
      ]
    },
    {
      "cell_type": "markdown",
      "id": "fddaf8b8-f193-44ee-848f-bad9fb7dfcfe",
      "metadata": {
        "id": "fddaf8b8-f193-44ee-848f-bad9fb7dfcfe"
      },
      "source": [
        "```python\n",
        "new_list = [expression_if_true if condition else expression_if_false for item in original_list]\n",
        "```\n",
        "\n",
        "Explanation:\n",
        "- `new_list`: The resulting list created using list comprehension.\n",
        "- `expression_if_true`: The value to be included in the new list if the condition is true for the current item.\n",
        "- `condition`: The condition to be checked for each item in the original list.\n",
        "- `expression_if_false`: The value to be included in the new list if the condition is false for the current item.\n",
        "- `item`: The variable representing each element in the original list during iteration.\n"
      ]
    },
    {
      "cell_type": "markdown",
      "id": "360215d9-5849-4e39-b578-3a0bf1ceafe2",
      "metadata": {
        "id": "360215d9-5849-4e39-b578-3a0bf1ceafe2"
      },
      "source": [
        "In the next example, if the word is longer than 7 characters, we include it as it is in the new list. Otherwise, we just make it uppercase."
      ]
    },
    {
      "cell_type": "code",
      "execution_count": null,
      "id": "1cd66f87",
      "metadata": {
        "id": "1cd66f87"
      },
      "outputs": [],
      "source": [
        "# if longer than 7\n",
        "\n",
        "city_list = ['barcelona', 'madrid', 'gerona', 'murcia']"
      ]
    },
    {
      "cell_type": "code",
      "execution_count": null,
      "id": "528c62a3",
      "metadata": {
        "id": "528c62a3",
        "outputId": "7896baa4-d43b-4989-9d80-9e200e040579"
      },
      "outputs": [
        {
          "data": {
            "text/plain": [
              "['Barcelona', 'MADRID', 'GERONA', 'MURCIA']"
            ]
          },
          "execution_count": 89,
          "metadata": {},
          "output_type": "execute_result"
        }
      ],
      "source": [
        "random_city_list = []\n",
        "# For loop\n",
        "for city in city_list:\n",
        "    if len(city) > 7:\n",
        "        random_city_list.append(city.capitalize())\n",
        "    else:\n",
        "        random_city_list.append(city.upper())\n",
        "random_city_list"
      ]
    },
    {
      "cell_type": "code",
      "execution_count": null,
      "id": "9e203c2d",
      "metadata": {
        "id": "9e203c2d",
        "outputId": "ab3c54b6-d438-4573-81dd-313dd157a4e3"
      },
      "outputs": [
        {
          "ename": "SyntaxError",
          "evalue": "invalid syntax (279547853.py, line 2)",
          "output_type": "error",
          "traceback": [
            "\u001b[1;36m  Cell \u001b[1;32mIn [91], line 2\u001b[1;36m\u001b[0m\n\u001b[1;33m    random_city_list [city.capitalize() for city in city_list if len(city) > 7 else city.upper()]\u001b[0m\n\u001b[1;37m                                        ^\u001b[0m\n\u001b[1;31mSyntaxError\u001b[0m\u001b[1;31m:\u001b[0m invalid syntax\n"
          ]
        }
      ],
      "source": [
        "# Comprehension list - wrong syntax\n",
        "random_city_list [city.capitalize() for city in city_list if len(city) > 7 else city.upper()]"
      ]
    },
    {
      "cell_type": "code",
      "execution_count": null,
      "id": "66367795",
      "metadata": {
        "id": "66367795",
        "outputId": "ae326de8-b0f0-471d-a609-ae08ed4b08ff"
      },
      "outputs": [
        {
          "data": {
            "text/plain": [
              "['Barcelona', 'MADRID', 'GERONA', 'MURCIA']"
            ]
          },
          "execution_count": 94,
          "metadata": {},
          "output_type": "execute_result"
        }
      ],
      "source": [
        "# Comprehension list - right syntax\n",
        "random_city_list = [city.capitalize() if len(city) > 7              else city.upper() for city in city_list]\n",
        "random_city_list"
      ]
    },
    {
      "cell_type": "code",
      "execution_count": null,
      "id": "1ec8975d",
      "metadata": {
        "id": "1ec8975d",
        "outputId": "df6d43e4-93f5-48ee-f698-224cc82c4e02"
      },
      "outputs": [
        {
          "ename": "SyntaxError",
          "evalue": "invalid syntax (1478873418.py, line 3)",
          "output_type": "error",
          "traceback": [
            "\u001b[1;36m  Cell \u001b[1;32mIn [93], line 3\u001b[1;36m\u001b[0m\n\u001b[1;33m    random_city_list = [city.capitalize()                           if len(city) > 7 for city in city_list]\u001b[0m\n\u001b[1;37m                                                                                     ^\u001b[0m\n\u001b[1;31mSyntaxError\u001b[0m\u001b[1;31m:\u001b[0m invalid syntax\n"
          ]
        }
      ],
      "source": [
        "# Can you have if in the middle without an else?\n",
        "# Comprehension list - right syntax\n",
        "random_city_list = [city.capitalize()                           if len(city) > 7 for city in city_list]\n",
        "random_city_list"
      ]
    },
    {
      "cell_type": "code",
      "execution_count": null,
      "id": "c367889d",
      "metadata": {
        "id": "c367889d",
        "outputId": "25e0a4ad-60dd-44c9-dba2-1331615d03be"
      },
      "outputs": [
        {
          "ename": "SyntaxError",
          "evalue": "invalid syntax (3900163624.py, line 2)",
          "output_type": "error",
          "traceback": [
            "\u001b[1;36m  Cell \u001b[1;32mIn [99], line 2\u001b[1;36m\u001b[0m\n\u001b[1;33m    random_city_list = [city.capitalize() if len(city) > 7,  elif len(city) > 4,  city.split('a')  else city.upper() for city in city_list]\u001b[0m\n\u001b[1;37m                                                          ^\u001b[0m\n\u001b[1;31mSyntaxError\u001b[0m\u001b[1;31m:\u001b[0m invalid syntax\n"
          ]
        }
      ],
      "source": [
        "# Q: Can you have elifs?\n",
        "random_city_list = [city.capitalize() if len(city) > 7,  elif len(city) > 4,  city.split('a')  else city.upper() for city in city_list]"
      ]
    },
    {
      "cell_type": "markdown",
      "id": "1ea1ad5c-e239-463b-a1a1-05946536157a",
      "metadata": {
        "id": "1ea1ad5c-e239-463b-a1a1-05946536157a"
      },
      "source": [
        "Another example: Converting Odd Numbers to Negative"
      ]
    },
    {
      "cell_type": "code",
      "execution_count": null,
      "id": "51d6105c-82b9-4fce-854e-9813e9fa0c6b",
      "metadata": {
        "id": "51d6105c-82b9-4fce-854e-9813e9fa0c6b"
      },
      "outputs": [],
      "source": [
        "numbers = list(range(1, 11))"
      ]
    },
    {
      "cell_type": "markdown",
      "id": "71209dc0-4ad9-46e8-b17d-1012e91018cd",
      "metadata": {
        "id": "71209dc0-4ad9-46e8-b17d-1012e91018cd"
      },
      "source": [
        "\n",
        "In the examples above, list comprehension filters and modifies elements based on specific conditions, creating a new list as a result. Using `if` and `else` in list comprehension adds flexibility to the process and allows for more complex transformations of the original list elements."
      ]
    },
    {
      "cell_type": "markdown",
      "id": "43e5bba4-6315-43d0-a904-6369c29ed147",
      "metadata": {
        "lang": "en",
        "id": "43e5bba4-6315-43d0-a904-6369c29ed147"
      },
      "source": [
        "# Dictionary Comprehension"
      ]
    },
    {
      "cell_type": "markdown",
      "id": "b29128c6-0134-4b09-b823-580ad4078320",
      "metadata": {
        "id": "b29128c6-0134-4b09-b823-580ad4078320"
      },
      "source": [
        "Just like list comprehension, dictionary comprehension offers a clean and efficient way to construct dictionaries in a single line of code.\n",
        "\n",
        "The general syntax for dictionary comprehension is:\n",
        "\n",
        "```python\n",
        "new_dict = {key_expression: value_expression for item in iterable}\n",
        "```"
      ]
    },
    {
      "cell_type": "code",
      "execution_count": null,
      "id": "2ca6a9c3-9e8f-4aa5-bf04-199b728000fc",
      "metadata": {
        "id": "2ca6a9c3-9e8f-4aa5-bf04-199b728000fc"
      },
      "outputs": [],
      "source": [
        "dict_numbers = {\"a\": 1, \"b\": 2, \"c\": 3, \"d\": 4, \"e\": 5}"
      ]
    },
    {
      "cell_type": "code",
      "execution_count": null,
      "id": "07142722",
      "metadata": {
        "id": "07142722",
        "outputId": "f140201c-640c-4a7f-9797-2902ea250b99"
      },
      "outputs": [
        {
          "data": {
            "text/plain": [
              "dict_items([('a', 1), ('b', 2), ('c', 3), ('d', 4), ('e', 5)])"
            ]
          },
          "execution_count": 104,
          "metadata": {},
          "output_type": "execute_result"
        }
      ],
      "source": [
        "dict_numbers.items()"
      ]
    },
    {
      "cell_type": "code",
      "execution_count": null,
      "id": "afef9c47-a925-4d6b-bbaa-65f91d620890",
      "metadata": {
        "id": "afef9c47-a925-4d6b-bbaa-65f91d620890",
        "outputId": "23c5a0ee-467c-4c00-fe31-e057cb9d08dc"
      },
      "outputs": [
        {
          "data": {
            "text/plain": [
              "{'A': 1, 'B': 4, 'C': 9, 'D': 16, 'E': 25}"
            ]
          },
          "execution_count": 105,
          "metadata": {},
          "output_type": "execute_result"
        }
      ],
      "source": [
        "new_dict = {}\n",
        "# Normal for loop\n",
        "for key, number in dict_numbers.items():\n",
        "    new_dict[key.upper()] = number ** 2\n",
        "\n",
        "new_dict"
      ]
    },
    {
      "cell_type": "code",
      "execution_count": null,
      "id": "7bc0517f-7406-413f-b12c-bd4869e3d0c6",
      "metadata": {
        "id": "7bc0517f-7406-413f-b12c-bd4869e3d0c6",
        "outputId": "6b0a8d5a-6d2a-4a87-9f3f-058a25b97650"
      },
      "outputs": [
        {
          "data": {
            "text/plain": [
              "{'A': 1, 'B': 4, 'C': 9, 'D': 16, 'E': 25}"
            ]
          },
          "execution_count": 106,
          "metadata": {},
          "output_type": "execute_result"
        }
      ],
      "source": [
        "# Dict comprehension\n",
        "new_dict = {key.upper(): number ** 2 for key, number in dict_numbers.items()}\n",
        "new_dict"
      ]
    },
    {
      "cell_type": "code",
      "execution_count": null,
      "id": "1709c91d-0d82-48f2-8bb2-449845aed050",
      "metadata": {
        "id": "1709c91d-0d82-48f2-8bb2-449845aed050"
      },
      "outputs": [],
      "source": [
        "# Change dict to show if a key is negative/positive\n",
        "dict_2 = {-10: \"a\", -5: \"b\", 10: \"c\"}"
      ]
    },
    {
      "cell_type": "code",
      "execution_count": null,
      "id": "d0f80482",
      "metadata": {
        "id": "d0f80482",
        "outputId": "7e75b40c-7954-476f-cc52-e5bbdf5c2659"
      },
      "outputs": [
        {
          "data": {
            "text/plain": [
              "{'a': -10, 'b': -5, 'c': 10}"
            ]
          },
          "execution_count": 107,
          "metadata": {},
          "output_type": "execute_result"
        }
      ],
      "source": [
        "inverted_dict_2 = {value: key for key, value in dict_2.items()}\n",
        "inverted_dict_2"
      ]
    },
    {
      "cell_type": "code",
      "execution_count": null,
      "id": "63533e12",
      "metadata": {
        "id": "63533e12",
        "outputId": "6894fa3e-9885-4665-d1af-26de428ef690"
      },
      "outputs": [
        {
          "data": {
            "text/plain": [
              "{-10: 'negative', -5: 'negative', 10: 'positive'}"
            ]
          },
          "execution_count": 108,
          "metadata": {},
          "output_type": "execute_result"
        }
      ],
      "source": [
        "new_dict_2 = {}\n",
        "# For loop\n",
        "for number, letter in dict_2.items():\n",
        "    if number > 0:\n",
        "        new_dict_2[number] = 'positive'\n",
        "    else:\n",
        "        new_dict_2[number] = 'negative'\n",
        "\n",
        "new_dict_2"
      ]
    },
    {
      "cell_type": "code",
      "execution_count": null,
      "id": "de793752-63e6-41b8-ae53-7fe3d5830e7d",
      "metadata": {
        "id": "de793752-63e6-41b8-ae53-7fe3d5830e7d",
        "outputId": "3a05cfd9-1eba-4f86-9622-c4d3787519ff"
      },
      "outputs": [
        {
          "data": {
            "text/plain": [
              "{0: 'negative', -5: 'negative', 20: 'positive'}"
            ]
          },
          "execution_count": 120,
          "metadata": {},
          "output_type": "execute_result"
        }
      ],
      "source": [
        "# Dict comprehension\n",
        "new_dict_2 = {((number + 10) if number % 2 == 0 else number):(\"positive\" if number>=0 else \"negative\")\n",
        "            for number, letter in dict_2.items()}\n",
        "new_dict_2"
      ]
    },
    {
      "cell_type": "markdown",
      "id": "b266dda1-d306-42f7-8a0c-cd81aa1b448a",
      "metadata": {
        "id": "b266dda1-d306-42f7-8a0c-cd81aa1b448a"
      },
      "source": [
        "We can also use dictionary comprehension to create a dictionary from a list.\n",
        "\n",
        "Let's keep the values of the `numbers` list as the dictionary `keys`, and as the dictionary `values`, we want those numbers squared."
      ]
    },
    {
      "cell_type": "code",
      "execution_count": null,
      "id": "7049c779-c317-49f4-b152-06566ea3561a",
      "metadata": {
        "lang": "en",
        "id": "7049c779-c317-49f4-b152-06566ea3561a"
      },
      "outputs": [],
      "source": [
        "numbers = list(range(1, 6))\n",
        "# Dict comprehension"
      ]
    },
    {
      "cell_type": "markdown",
      "id": "40eb0c02",
      "metadata": {
        "id": "40eb0c02"
      },
      "source": [
        "## Dict comprehension from two lists"
      ]
    },
    {
      "cell_type": "markdown",
      "id": "8743de98",
      "metadata": {
        "id": "8743de98"
      },
      "source": [
        "We can also use dictionary comprehension to create a dictionary from two lists, one will be the `keys`and the other one the `values`."
      ]
    },
    {
      "cell_type": "code",
      "execution_count": null,
      "id": "fea4d916",
      "metadata": {
        "id": "fea4d916"
      },
      "outputs": [],
      "source": [
        "names = [\"venice\", \"sam\", \"clara\"]\n",
        "ages = [\"32\", \"21\", \"15\"]\n",
        "\n",
        "the_goal = {\n",
        "    \"venice\": \"32\",\n",
        "    \"sam\": \"21\",\n",
        "    \"clara\":\"15\"\n",
        "}"
      ]
    },
    {
      "cell_type": "code",
      "execution_count": null,
      "id": "2f904b59",
      "metadata": {
        "id": "2f904b59",
        "outputId": "aefa8786-515f-4cad-dbb9-13b140058f90"
      },
      "outputs": [
        {
          "data": {
            "text/plain": [
              "{'venice': '32', 'sam': '21', 'clara': '15'}"
            ]
          },
          "execution_count": 124,
          "metadata": {},
          "output_type": "execute_result"
        }
      ],
      "source": [
        "# For loop\n",
        "the_goal = {}\n",
        "for name, age in zip(names, ages):\n",
        "    the_goal[name] = age\n",
        "\n",
        "the_goal"
      ]
    },
    {
      "cell_type": "code",
      "execution_count": null,
      "id": "bcc6164c",
      "metadata": {
        "id": "bcc6164c",
        "outputId": "5282ab0f-4f90-4d55-e6a5-e55fff2d97ce"
      },
      "outputs": [
        {
          "data": {
            "text/plain": [
              "{'venice': '32', 'sam': '21', 'clara': '15'}"
            ]
          },
          "execution_count": 125,
          "metadata": {},
          "output_type": "execute_result"
        }
      ],
      "source": [
        "# Dict comprehension\n",
        "the_goal = {name: age for name, age in zip(names, ages)}\n",
        "the_goal"
      ]
    },
    {
      "cell_type": "markdown",
      "id": "6e49f7d0-3d9b-4661-9bd7-edf7525cd292",
      "metadata": {
        "lang": "en",
        "id": "6e49f7d0-3d9b-4661-9bd7-edf7525cd292"
      },
      "source": [
        "## 💡 Check for understanding\n",
        "\n",
        "You have a list of words. Write a dictionary containing the length of each word and if it has more consonants than vowels."
      ]
    },
    {
      "cell_type": "code",
      "execution_count": null,
      "id": "12333f41",
      "metadata": {
        "id": "12333f41"
      },
      "outputs": [],
      "source": [
        "list_of_words = [\"football\", \"climbing\", \"swimming\", \"golf\"]"
      ]
    },
    {
      "cell_type": "code",
      "execution_count": null,
      "id": "ba02d16c",
      "metadata": {
        "id": "ba02d16c",
        "outputId": "d8b69024-0db6-478a-e103-0e30b262ce2c"
      },
      "outputs": [
        {
          "name": "stdout",
          "output_type": "stream",
          "text": [
            "True\n",
            "True\n",
            "False\n",
            "False\n"
          ]
        }
      ],
      "source": [
        "# Your code goes here\n",
        "for word in list_of_words:\n",
        "    no_consonants = 0\n",
        "    no_vowels = 0\n",
        "\n",
        "    for char in word:\n",
        "        if char in ['a', 'e', 'i', 'o', 'u']:\n",
        "            no_vowels += 1\n",
        "        else:\n",
        "            no_consonants += 1\n",
        "    print(no_consonants > no_vowels)"
      ]
    },
    {
      "cell_type": "code",
      "execution_count": null,
      "id": "70bb6dd6",
      "metadata": {
        "id": "70bb6dd6"
      },
      "outputs": [],
      "source": [
        "def more_consonants_than_vowels(word):\n",
        "    no_consonants = 0\n",
        "    no_vowels = 0\n",
        "\n",
        "    for char in word:\n",
        "        if char in ['a', 'e', 'i', 'o', 'u']:\n",
        "            no_vowels += 1\n",
        "        else:\n",
        "            no_consonants += 1\n",
        "\n",
        "    return no_consonants > no_vowels"
      ]
    },
    {
      "cell_type": "code",
      "execution_count": null,
      "id": "bb1f224d",
      "metadata": {
        "id": "bb1f224d",
        "outputId": "3a6e7e5e-1416-4609-ae9d-ef77f210d5f7"
      },
      "outputs": [
        {
          "name": "stdout",
          "output_type": "stream",
          "text": [
            "True\n",
            "True\n",
            "False\n",
            "False\n"
          ]
        }
      ],
      "source": [
        "for word in list_of_words:\n",
        "    print(more_consonants_than_vowels(word))"
      ]
    },
    {
      "cell_type": "code",
      "execution_count": null,
      "id": "eea5b8f7",
      "metadata": {
        "id": "eea5b8f7",
        "outputId": "221e3958-f85b-44ba-9728-71000ede5c48"
      },
      "outputs": [
        {
          "data": {
            "text/plain": [
              "{'barcelona': [9, True],\n",
              " 'madrid': [6, True],\n",
              " 'girona': [6, False],\n",
              " 'murcia': [6, False]}"
            ]
          },
          "execution_count": 132,
          "metadata": {},
          "output_type": "execute_result"
        }
      ],
      "source": [
        "new_dict = {word: [len(word), more_consonants_than_vowels(word)] for word in list_of_words}\n",
        "new_dict"
      ]
    },
    {
      "cell_type": "markdown",
      "id": "fd9c62ab-eda5-4aab-911b-b560db1af80f",
      "metadata": {
        "id": "fd9c62ab-eda5-4aab-911b-b560db1af80f"
      },
      "source": [
        "# Set Comprehension"
      ]
    },
    {
      "cell_type": "markdown",
      "id": "f05288d7-5645-4ad1-a55f-bb767582f9b0",
      "metadata": {
        "id": "f05288d7-5645-4ad1-a55f-bb767582f9b0"
      },
      "source": [
        "The syntax for set comprehension is quite similar to list comprehension:\n",
        "\n",
        "```python\n",
        "new_set = {expression for item in iterable}\n",
        "```"
      ]
    },
    {
      "cell_type": "markdown",
      "id": "b388ae3d-a76d-4077-8486-6e06d6765838",
      "metadata": {
        "lang": "en",
        "id": "b388ae3d-a76d-4077-8486-6e06d6765838"
      },
      "source": [
        "## 💡 Check for understanding\n",
        "\n",
        "Use set comprehension to create a set with only unique country codes"
      ]
    },
    {
      "cell_type": "code",
      "execution_count": null,
      "id": "inner-refund",
      "metadata": {
        "id": "inner-refund"
      },
      "outputs": [],
      "source": [
        "codes_countries = [\"es-91\", \"en-88\", \"fra-12\", \"it-33\", \"ar-55\", \"it-34\", \"es-98\"]"
      ]
    },
    {
      "cell_type": "code",
      "execution_count": null,
      "id": "30bb8484",
      "metadata": {
        "id": "30bb8484"
      },
      "outputs": [],
      "source": [
        "# Extract the uppercase country codes in a set"
      ]
    },
    {
      "cell_type": "code",
      "execution_count": null,
      "id": "a1197302",
      "metadata": {
        "id": "a1197302"
      },
      "outputs": [],
      "source": [
        "goal = {word.split('-')[0].upper() if int(word.split('-')[1])%11 == 0 else 'None' for word in codes_countries}"
      ]
    },
    {
      "cell_type": "code",
      "execution_count": null,
      "id": "59a89ade",
      "metadata": {
        "id": "59a89ade",
        "outputId": "769c2438-8146-4bc4-f9b4-b9a1ac7639aa"
      },
      "outputs": [
        {
          "data": {
            "text/plain": [
              "{'AR', 'EN', 'IT', 'None'}"
            ]
          },
          "execution_count": 136,
          "metadata": {},
          "output_type": "execute_result"
        }
      ],
      "source": [
        "goal"
      ]
    },
    {
      "cell_type": "markdown",
      "id": "32925503-a999-4711-8842-b5c83789857d",
      "metadata": {
        "id": "32925503-a999-4711-8842-b5c83789857d"
      },
      "source": [
        "# Summary"
      ]
    },
    {
      "cell_type": "markdown",
      "id": "8b7cec96-24f0-4c9c-9b34-8f5993e7d421",
      "metadata": {
        "id": "8b7cec96-24f0-4c9c-9b34-8f5993e7d421"
      },
      "source": [
        "- Comprehensions provide a quicker, more comfortable, and readable way to create lists, sets, and dictionaries.\n",
        "- Saves us some steps compared to traditional for loops (create empty list, use append method)\n",
        "- It supports conditions, enabling us to filter or modify elements during the creation process.\n",
        "- If an `else` statement is included, the order changes, offering flexibility in handling different conditions."
      ]
    },
    {
      "cell_type": "markdown",
      "id": "f64cdf34-69ab-4c28-a92a-6080ecc63d00",
      "metadata": {
        "lang": "es",
        "id": "f64cdf34-69ab-4c28-a92a-6080ecc63d00"
      },
      "source": [
        "# Extra"
      ]
    },
    {
      "cell_type": "markdown",
      "id": "79557943-bf12-4f38-bdc2-b7cf4747e92d",
      "metadata": {
        "id": "79557943-bf12-4f38-bdc2-b7cf4747e92d"
      },
      "source": [
        "## Nested list comprehensions"
      ]
    },
    {
      "cell_type": "markdown",
      "id": "1c45b37a-5935-4b19-a8cf-409e1b593ca7",
      "metadata": {
        "id": "1c45b37a-5935-4b19-a8cf-409e1b593ca7"
      },
      "source": [
        "Nested list comprehensions in Python allow you to create lists of lists or perform more complex transformations with multiple levels of iteration. The syntax involves placing one or more list comprehensions inside another."
      ]
    },
    {
      "cell_type": "markdown",
      "id": "d29730b4-01f4-4adc-8a71-9c27f78bc070",
      "metadata": {
        "id": "d29730b4-01f4-4adc-8a71-9c27f78bc070"
      },
      "source": [
        "```python\n",
        "new_list = [[expression for item in inner_list] for inner_list in outer_list]\n",
        "```"
      ]
    },
    {
      "cell_type": "markdown",
      "id": "65409460-79a2-4604-a701-d660cf88170f",
      "metadata": {
        "id": "65409460-79a2-4604-a701-d660cf88170f"
      },
      "source": [
        "Example: Flattening a List of Lists"
      ]
    },
    {
      "cell_type": "code",
      "execution_count": null,
      "id": "dd5dd8c7-aabf-475d-84c1-ca01cd2020c2",
      "metadata": {
        "id": "dd5dd8c7-aabf-475d-84c1-ca01cd2020c2"
      },
      "outputs": [],
      "source": [
        "list_of_lists = [[1, 2, 3], [4, 5], [6, 7, 8, 9]]\n",
        "flattened_list = []\n",
        "\n",
        "# For loop"
      ]
    },
    {
      "cell_type": "code",
      "execution_count": null,
      "id": "0abb89cc",
      "metadata": {
        "id": "0abb89cc"
      },
      "outputs": [],
      "source": [
        "flattened_list = []\n",
        "# For loop + list comprehension"
      ]
    },
    {
      "cell_type": "code",
      "execution_count": null,
      "id": "b3fb6970-d377-4365-aab7-99a65f9146a3",
      "metadata": {
        "id": "b3fb6970-d377-4365-aab7-99a65f9146a3"
      },
      "outputs": [],
      "source": [
        "# Using nested list comprehension to flatten a list of lists - separate internal & external loop"
      ]
    },
    {
      "cell_type": "markdown",
      "id": "6b103055-b3a7-4a00-aff4-649cabdb443a",
      "metadata": {
        "id": "6b103055-b3a7-4a00-aff4-649cabdb443a"
      },
      "source": [
        "Another example"
      ]
    },
    {
      "cell_type": "code",
      "execution_count": null,
      "id": "91ab7124",
      "metadata": {
        "id": "91ab7124"
      },
      "outputs": [],
      "source": [
        "nested_comprehension = [[[\"Peter\", \"18\"], [\"Clara\", \"20\"]], [['Megan', '35']], [['Marc', '32']]]\n",
        "flattened = []\n",
        "\n",
        "# For loop"
      ]
    },
    {
      "cell_type": "code",
      "execution_count": null,
      "id": "4b2e639c",
      "metadata": {
        "id": "4b2e639c"
      },
      "outputs": [],
      "source": [
        "nested_comprehension = [[[\"Peter\", \"18\"], [\"Clara\", \"20\"]], [['Megan', '35']], [['Marc', '32']]]\n",
        "flattened = []\n",
        "\n",
        "# For loop x 2 + list comprehension"
      ]
    },
    {
      "cell_type": "code",
      "execution_count": null,
      "id": "99c9fae9",
      "metadata": {
        "id": "99c9fae9"
      },
      "outputs": [],
      "source": [
        "# For loop + list comprehension x 2\n",
        "nested_comprehension = [[[\"Peter\", \"18\"], [\"Clara\", \"20\"]], [['Megan', '35']], [['Marc', '32']]]\n",
        "flattened = []"
      ]
    },
    {
      "cell_type": "code",
      "execution_count": null,
      "id": "a89c12a0",
      "metadata": {
        "id": "a89c12a0"
      },
      "outputs": [],
      "source": [
        "# List comprehension x 3\n",
        "nested_comprehension = [[[\"Peter\", \"18\"], [\"Clara\", \"20\"]], [['Megan', '35']], [['Marc', '32']]]"
      ]
    },
    {
      "cell_type": "markdown",
      "id": "39de9f02",
      "metadata": {
        "id": "39de9f02"
      },
      "source": [
        "## Alternative to list comprehensions for equally sized lists"
      ]
    },
    {
      "cell_type": "code",
      "execution_count": null,
      "id": "10ccf100",
      "metadata": {
        "id": "10ccf100"
      },
      "outputs": [],
      "source": [
        "# It's more likely you will use numpy for this - the only drawback is that numpy can only handle lists with the same number of elements\n",
        "import numpy as np\n",
        "\n",
        "nested_comprehension = np.array([[\"Peter\", \"18\"], [\"Clara\", \"20\"], ['Megan', '35'], ['Marc', '32']])\n",
        "nested_comprehension.flatten()"
      ]
    },
    {
      "cell_type": "code",
      "execution_count": null,
      "id": "6a99bca1",
      "metadata": {
        "id": "6a99bca1"
      },
      "outputs": [],
      "source": [
        "list_of_lists = np.array([[1, 2, 3], [4, 5, 6], [7, 8, 9]])\n",
        "list_of_lists.flatten()"
      ]
    },
    {
      "cell_type": "code",
      "execution_count": null,
      "id": "5a7d5686",
      "metadata": {
        "id": "5a7d5686"
      },
      "outputs": [],
      "source": [
        "list_of_lists = np.array([[1, 2, 3], [4, 5], [6, 7, 8, 9]])\n",
        "list_of_lists.flatten() # Having the same list as before doesn't work as expected"
      ]
    }
  ],
  "metadata": {
    "kernelspec": {
      "display_name": "Python 3 (ipykernel)",
      "language": "python",
      "name": "python3"
    },
    "language_info": {
      "codemirror_mode": {
        "name": "ipython",
        "version": 3
      },
      "file_extension": ".py",
      "mimetype": "text/x-python",
      "name": "python",
      "nbconvert_exporter": "python",
      "pygments_lexer": "ipython3",
      "version": "3.9.13"
    },
    "toc": {
      "base_numbering": 1,
      "nav_menu": {},
      "number_sections": true,
      "sideBar": true,
      "skip_h1_title": false,
      "title_cell": "Table of Contents",
      "title_sidebar": "Contents",
      "toc_cell": true,
      "toc_position": {},
      "toc_section_display": true,
      "toc_window_display": true
    },
    "colab": {
      "provenance": [],
      "include_colab_link": true
    }
  },
  "nbformat": 4,
  "nbformat_minor": 5
}